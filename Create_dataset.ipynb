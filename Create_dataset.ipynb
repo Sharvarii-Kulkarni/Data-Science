{
 "cells": [
  {
   "cell_type": "code",
   "execution_count": 1,
   "id": "fc4d15e1",
   "metadata": {},
   "outputs": [
    {
     "data": {
      "text/html": [
       "<div>\n",
       "<style scoped>\n",
       "    .dataframe tbody tr th:only-of-type {\n",
       "        vertical-align: middle;\n",
       "    }\n",
       "\n",
       "    .dataframe tbody tr th {\n",
       "        vertical-align: top;\n",
       "    }\n",
       "\n",
       "    .dataframe thead th {\n",
       "        text-align: right;\n",
       "    }\n",
       "</style>\n",
       "<table border=\"1\" class=\"dataframe\">\n",
       "  <thead>\n",
       "    <tr style=\"text-align: right;\">\n",
       "      <th></th>\n",
       "      <th>company</th>\n",
       "      <th>model</th>\n",
       "      <th>year</th>\n",
       "    </tr>\n",
       "  </thead>\n",
       "  <tbody>\n",
       "    <tr>\n",
       "      <th>0</th>\n",
       "      <td>Tata</td>\n",
       "      <td>Nexon</td>\n",
       "      <td>2017</td>\n",
       "    </tr>\n",
       "    <tr>\n",
       "      <th>1</th>\n",
       "      <td>MG</td>\n",
       "      <td>Astor</td>\n",
       "      <td>2021</td>\n",
       "    </tr>\n",
       "    <tr>\n",
       "      <th>2</th>\n",
       "      <td>KIA</td>\n",
       "      <td>Seltos</td>\n",
       "      <td>2019</td>\n",
       "    </tr>\n",
       "    <tr>\n",
       "      <th>3</th>\n",
       "      <td>Hyundai</td>\n",
       "      <td>Creta</td>\n",
       "      <td>2015</td>\n",
       "    </tr>\n",
       "  </tbody>\n",
       "</table>\n",
       "</div>"
      ],
      "text/plain": [
       "   company   model  year\n",
       "0     Tata   Nexon  2017\n",
       "1       MG   Astor  2021\n",
       "2      KIA  Seltos  2019\n",
       "3  Hyundai   Creta  2015"
      ]
     },
     "execution_count": 1,
     "metadata": {},
     "output_type": "execute_result"
    }
   ],
   "source": [
    "#Import the library\n",
    "import pandas as pd\n",
    "#Create an empty data frame with column names\n",
    "df = pd.DataFrame(columns = ['company','model','year'])\n",
    "#Add records\n",
    "df.loc[0] = ['Tata', 'Nexon', 2017] \n",
    "df.loc[1] = ['MG', 'Astor', 2021] \n",
    "df.loc[2] = ['KIA', 'Seltos', 2019] \n",
    "df.loc[3] = ['Hyundai', 'Creta', 2015] \n",
    "#Print the dataframe \n",
    "df"
   ]
  },
  {
   "cell_type": "code",
   "execution_count": 2,
   "id": "7167a8de",
   "metadata": {},
   "outputs": [],
   "source": [
    "import numpy as np\n",
    "\n",
    "# Pass a 2D numpy array - each row is the corresponding row in the dataframe\n",
    "data = np.array([['Tata','Nexon',2017], ['MG','Astor',2021], ['KIA','Seltos', 2019], ['Hyundai','Creta',2015]])"
   ]
  },
  {
   "cell_type": "code",
   "execution_count": 3,
   "id": "be2fb0ae",
   "metadata": {},
   "outputs": [
    {
     "data": {
      "text/html": [
       "<div>\n",
       "<style scoped>\n",
       "    .dataframe tbody tr th:only-of-type {\n",
       "        vertical-align: middle;\n",
       "    }\n",
       "\n",
       "    .dataframe tbody tr th {\n",
       "        vertical-align: top;\n",
       "    }\n",
       "\n",
       "    .dataframe thead th {\n",
       "        text-align: right;\n",
       "    }\n",
       "</style>\n",
       "<table border=\"1\" class=\"dataframe\">\n",
       "  <thead>\n",
       "    <tr style=\"text-align: right;\">\n",
       "      <th></th>\n",
       "      <th>company</th>\n",
       "      <th>model</th>\n",
       "      <th>year</th>\n",
       "    </tr>\n",
       "  </thead>\n",
       "  <tbody>\n",
       "    <tr>\n",
       "      <th>0</th>\n",
       "      <td>Tata</td>\n",
       "      <td>Nexon</td>\n",
       "      <td>2017</td>\n",
       "    </tr>\n",
       "    <tr>\n",
       "      <th>1</th>\n",
       "      <td>MG</td>\n",
       "      <td>Astor</td>\n",
       "      <td>2021</td>\n",
       "    </tr>\n",
       "    <tr>\n",
       "      <th>2</th>\n",
       "      <td>KIA</td>\n",
       "      <td>Seltos</td>\n",
       "      <td>2019</td>\n",
       "    </tr>\n",
       "    <tr>\n",
       "      <th>3</th>\n",
       "      <td>Hyundai</td>\n",
       "      <td>Creta</td>\n",
       "      <td>2015</td>\n",
       "    </tr>\n",
       "  </tbody>\n",
       "</table>\n",
       "</div>"
      ],
      "text/plain": [
       "   company   model  year\n",
       "0     Tata   Nexon  2017\n",
       "1       MG   Astor  2021\n",
       "2      KIA  Seltos  2019\n",
       "3  Hyundai   Creta  2015"
      ]
     },
     "execution_count": 3,
     "metadata": {},
     "output_type": "execute_result"
    }
   ],
   "source": [
    "# pass column names in the columns parameter of the constructor\n",
    "df = pd.DataFrame(data, columns = ['company', 'model','year'])\n",
    "df"
   ]
  },
  {
   "cell_type": "code",
   "execution_count": 4,
   "id": "f6d99c3a",
   "metadata": {},
   "outputs": [
    {
     "name": "stdout",
     "output_type": "stream",
     "text": [
      "   company   model  year\n",
      "0     Tata   Nexon  2017\n",
      "1       MG   Astor  2021\n",
      "2      KIA  Seltos  2019\n",
      "3  Hyundai   Creta  2015\n"
     ]
    }
   ],
   "source": [
    "import pandas as pd\n",
    "\n",
    "# List of records\n",
    "data = [\n",
    "    ['Tata','Nexon',2017],\n",
    "    ['MG','Astor',2021],\n",
    "    ['KIA','Seltos',2019],\n",
    "    ['Hyundai','Creta',2015]\n",
    "]\n",
    "\n",
    "# Create DataFrame directly\n",
    "df = pd.DataFrame(data, columns=['company','model','year'])\n",
    "\n",
    "print(df)\n"
   ]
  },
  {
   "cell_type": "code",
   "execution_count": 6,
   "id": "3749f958",
   "metadata": {},
   "outputs": [
    {
     "name": "stdout",
     "output_type": "stream",
     "text": [
      "   company   model  year\n",
      "0     Tata   Nexon  2017\n",
      "1       MG   Astor  2021\n",
      "2      KIA  Seltos  2019\n",
      "3  Hyundai   Creta  2015\n"
     ]
    }
   ],
   "source": [
    "#Create DataFrame using Dictionary of Lists\n",
    "import pandas as pd\n",
    "\n",
    "# Dictionary → keys = column names, values = list of column data\n",
    "data = {\n",
    "    'company': ['Tata','MG','KIA','Hyundai'],\n",
    "    'model':   ['Nexon','Astor','Seltos','Creta'],\n",
    "    'year':    [2017,2021,2019,2015]\n",
    "}\n",
    "\n",
    "# Create DataFrame\n",
    "df = pd.DataFrame.from_dict(data)\n",
    "print(df)\n"
   ]
  },
  {
   "cell_type": "code",
   "execution_count": 7,
   "id": "a7a60da8",
   "metadata": {},
   "outputs": [
    {
     "name": "stdout",
     "output_type": "stream",
     "text": [
      "   company   model  year\n",
      "0     Tata   Nexon  2017\n",
      "1       MG   Astor  2021\n",
      "2      KIA  Seltos  2019\n",
      "3  Hyundai   Creta  2015\n"
     ]
    }
   ],
   "source": [
    "#Create DataFrame using List of Dictionaries\n",
    "import pandas as pd\n",
    "\n",
    "# Each dictionary = one row (record)\n",
    "data = [\n",
    "    {'company':'Tata',    'model':'Nexon',  'year':2017},\n",
    "    {'company':'MG',      'model':'Astor',  'year':2021},\n",
    "    {'company':'KIA',     'model':'Seltos', 'year':2019},\n",
    "    {'company':'Hyundai', 'model':'Creta',  'year':2015}\n",
    "]\n",
    "\n",
    "# Create DataFrame\n",
    "df = pd.DataFrame(data)\n",
    "print(df)\n"
   ]
  },
  {
   "cell_type": "code",
   "execution_count": 8,
   "id": "ead5928a",
   "metadata": {},
   "outputs": [],
   "source": [
    "#using zip()"
   ]
  },
  {
   "cell_type": "code",
   "execution_count": 9,
   "id": "7088502f",
   "metadata": {},
   "outputs": [
    {
     "name": "stdout",
     "output_type": "stream",
     "text": [
      "   company   model  year\n",
      "0     Tata   Nexon  2017\n",
      "1       MG   Astor  2021\n",
      "2      KIA  Seltos  2019\n",
      "3  Hyundai   Creta  2015\n"
     ]
    }
   ],
   "source": [
    "import pandas as pd \n",
    "\n",
    "# Lists\n",
    "company = ['Tata','MG','KIA','Hyundai'] \n",
    "model   = ['Nexon','Astor','Seltos','Creta'] \n",
    "year    = [2017,2021,2019,2015] \n",
    "\n",
    "# Merge lists into tuples using zip\n",
    "data = list(zip(company, model, year))\n",
    "\n",
    "# Create DataFrame\n",
    "df = pd.DataFrame(data, columns=['company','model','year']) \n",
    "\n",
    "print(df)\n"
   ]
  },
  {
   "cell_type": "code",
   "execution_count": 10,
   "id": "fdc18151",
   "metadata": {},
   "outputs": [],
   "source": [
    "#understand the data(EDA)\n",
    "import pandas as pd\n",
    "\n",
    "df = pd.DataFrame({\n",
    "    'company': ['Tata','MG','KIA','Hyundai'],\n",
    "    'model':   ['Nexon','Astor','Seltos','Creta'],\n",
    "    'year':    [2017,2021,2019,2015]\n",
    "})\n"
   ]
  },
  {
   "cell_type": "code",
   "execution_count": 11,
   "id": "5915c06c",
   "metadata": {},
   "outputs": [
    {
     "data": {
      "text/html": [
       "<div>\n",
       "<style scoped>\n",
       "    .dataframe tbody tr th:only-of-type {\n",
       "        vertical-align: middle;\n",
       "    }\n",
       "\n",
       "    .dataframe tbody tr th {\n",
       "        vertical-align: top;\n",
       "    }\n",
       "\n",
       "    .dataframe thead th {\n",
       "        text-align: right;\n",
       "    }\n",
       "</style>\n",
       "<table border=\"1\" class=\"dataframe\">\n",
       "  <thead>\n",
       "    <tr style=\"text-align: right;\">\n",
       "      <th></th>\n",
       "      <th>company</th>\n",
       "      <th>model</th>\n",
       "      <th>year</th>\n",
       "    </tr>\n",
       "  </thead>\n",
       "  <tbody>\n",
       "    <tr>\n",
       "      <th>0</th>\n",
       "      <td>Tata</td>\n",
       "      <td>Nexon</td>\n",
       "      <td>2017</td>\n",
       "    </tr>\n",
       "    <tr>\n",
       "      <th>1</th>\n",
       "      <td>MG</td>\n",
       "      <td>Astor</td>\n",
       "      <td>2021</td>\n",
       "    </tr>\n",
       "    <tr>\n",
       "      <th>2</th>\n",
       "      <td>KIA</td>\n",
       "      <td>Seltos</td>\n",
       "      <td>2019</td>\n",
       "    </tr>\n",
       "    <tr>\n",
       "      <th>3</th>\n",
       "      <td>Hyundai</td>\n",
       "      <td>Creta</td>\n",
       "      <td>2015</td>\n",
       "    </tr>\n",
       "  </tbody>\n",
       "</table>\n",
       "</div>"
      ],
      "text/plain": [
       "   company   model  year\n",
       "0     Tata   Nexon  2017\n",
       "1       MG   Astor  2021\n",
       "2      KIA  Seltos  2019\n",
       "3  Hyundai   Creta  2015"
      ]
     },
     "execution_count": 11,
     "metadata": {},
     "output_type": "execute_result"
    }
   ],
   "source": [
    "df"
   ]
  },
  {
   "cell_type": "code",
   "execution_count": 12,
   "id": "6b76f288",
   "metadata": {},
   "outputs": [
    {
     "name": "stdout",
     "output_type": "stream",
     "text": [
      "<class 'pandas.core.frame.DataFrame'>\n",
      "RangeIndex: 4 entries, 0 to 3\n",
      "Data columns (total 3 columns):\n",
      " #   Column   Non-Null Count  Dtype \n",
      "---  ------   --------------  ----- \n",
      " 0   company  4 non-null      object\n",
      " 1   model    4 non-null      object\n",
      " 2   year     4 non-null      int64 \n",
      "dtypes: int64(1), object(2)\n",
      "memory usage: 224.0+ bytes\n"
     ]
    }
   ],
   "source": [
    "df.info()"
   ]
  },
  {
   "cell_type": "code",
   "execution_count": 13,
   "id": "6727c425",
   "metadata": {},
   "outputs": [
    {
     "data": {
      "text/html": [
       "<div>\n",
       "<style scoped>\n",
       "    .dataframe tbody tr th:only-of-type {\n",
       "        vertical-align: middle;\n",
       "    }\n",
       "\n",
       "    .dataframe tbody tr th {\n",
       "        vertical-align: top;\n",
       "    }\n",
       "\n",
       "    .dataframe thead th {\n",
       "        text-align: right;\n",
       "    }\n",
       "</style>\n",
       "<table border=\"1\" class=\"dataframe\">\n",
       "  <thead>\n",
       "    <tr style=\"text-align: right;\">\n",
       "      <th></th>\n",
       "      <th>year</th>\n",
       "    </tr>\n",
       "  </thead>\n",
       "  <tbody>\n",
       "    <tr>\n",
       "      <th>count</th>\n",
       "      <td>4.000000</td>\n",
       "    </tr>\n",
       "    <tr>\n",
       "      <th>mean</th>\n",
       "      <td>2018.000000</td>\n",
       "    </tr>\n",
       "    <tr>\n",
       "      <th>std</th>\n",
       "      <td>2.581989</td>\n",
       "    </tr>\n",
       "    <tr>\n",
       "      <th>min</th>\n",
       "      <td>2015.000000</td>\n",
       "    </tr>\n",
       "    <tr>\n",
       "      <th>25%</th>\n",
       "      <td>2016.500000</td>\n",
       "    </tr>\n",
       "    <tr>\n",
       "      <th>50%</th>\n",
       "      <td>2018.000000</td>\n",
       "    </tr>\n",
       "    <tr>\n",
       "      <th>75%</th>\n",
       "      <td>2019.500000</td>\n",
       "    </tr>\n",
       "    <tr>\n",
       "      <th>max</th>\n",
       "      <td>2021.000000</td>\n",
       "    </tr>\n",
       "  </tbody>\n",
       "</table>\n",
       "</div>"
      ],
      "text/plain": [
       "              year\n",
       "count     4.000000\n",
       "mean   2018.000000\n",
       "std       2.581989\n",
       "min    2015.000000\n",
       "25%    2016.500000\n",
       "50%    2018.000000\n",
       "75%    2019.500000\n",
       "max    2021.000000"
      ]
     },
     "execution_count": 13,
     "metadata": {},
     "output_type": "execute_result"
    }
   ],
   "source": [
    "df.describe()"
   ]
  },
  {
   "cell_type": "code",
   "execution_count": 16,
   "id": "2bd1a0b8",
   "metadata": {},
   "outputs": [
    {
     "data": {
      "text/plain": [
       "(4, 3)"
      ]
     },
     "execution_count": 16,
     "metadata": {},
     "output_type": "execute_result"
    }
   ],
   "source": [
    "df.shape"
   ]
  },
  {
   "cell_type": "code",
   "execution_count": 17,
   "id": "b8c75897",
   "metadata": {},
   "outputs": [
    {
     "data": {
      "text/plain": [
       "12"
      ]
     },
     "execution_count": 17,
     "metadata": {},
     "output_type": "execute_result"
    }
   ],
   "source": [
    "df.size"
   ]
  },
  {
   "cell_type": "code",
   "execution_count": 18,
   "id": "9f1426dc",
   "metadata": {},
   "outputs": [
    {
     "data": {
      "text/plain": [
       "2021"
      ]
     },
     "execution_count": 18,
     "metadata": {},
     "output_type": "execute_result"
    }
   ],
   "source": [
    "df.loc[0]          # Get row at index 0\n",
    "df.loc[0:2]        # Get rows from index 0 to 2 (inclusive)\n",
    "df.loc[:, 'model'] # Get only 'model' column\n",
    "df.loc[1, 'year']  # Access single cell (row=1, column='year')"
   ]
  },
  {
   "cell_type": "code",
   "execution_count": 19,
   "id": "30a794da",
   "metadata": {},
   "outputs": [
    {
     "data": {
      "text/html": [
       "<div>\n",
       "<style scoped>\n",
       "    .dataframe tbody tr th:only-of-type {\n",
       "        vertical-align: middle;\n",
       "    }\n",
       "\n",
       "    .dataframe tbody tr th {\n",
       "        vertical-align: top;\n",
       "    }\n",
       "\n",
       "    .dataframe thead th {\n",
       "        text-align: right;\n",
       "    }\n",
       "</style>\n",
       "<table border=\"1\" class=\"dataframe\">\n",
       "  <thead>\n",
       "    <tr style=\"text-align: right;\">\n",
       "      <th></th>\n",
       "      <th>company</th>\n",
       "      <th>model</th>\n",
       "      <th>year</th>\n",
       "    </tr>\n",
       "  </thead>\n",
       "  <tbody>\n",
       "    <tr>\n",
       "      <th>1</th>\n",
       "      <td>MG</td>\n",
       "      <td>Astor</td>\n",
       "      <td>2021</td>\n",
       "    </tr>\n",
       "    <tr>\n",
       "      <th>2</th>\n",
       "      <td>KIA</td>\n",
       "      <td>Seltos</td>\n",
       "      <td>2019</td>\n",
       "    </tr>\n",
       "    <tr>\n",
       "      <th>0</th>\n",
       "      <td>Tata</td>\n",
       "      <td>Nexon</td>\n",
       "      <td>2017</td>\n",
       "    </tr>\n",
       "    <tr>\n",
       "      <th>3</th>\n",
       "      <td>Hyundai</td>\n",
       "      <td>Creta</td>\n",
       "      <td>2015</td>\n",
       "    </tr>\n",
       "  </tbody>\n",
       "</table>\n",
       "</div>"
      ],
      "text/plain": [
       "   company   model  year\n",
       "1       MG   Astor  2021\n",
       "2      KIA  Seltos  2019\n",
       "0     Tata   Nexon  2017\n",
       "3  Hyundai   Creta  2015"
      ]
     },
     "execution_count": 19,
     "metadata": {},
     "output_type": "execute_result"
    }
   ],
   "source": [
    "df.sort_values(by='year')            # Sort by year ascending\n",
    "df.sort_values(by='company')         # Sort by company alphabetically\n",
    "df.sort_values(by='year', ascending=False) # Sort by year descending\n"
   ]
  },
  {
   "cell_type": "code",
   "execution_count": 20,
   "id": "0878372e",
   "metadata": {},
   "outputs": [
    {
     "data": {
      "text/plain": [
       "Tata       1\n",
       "MG         1\n",
       "KIA        1\n",
       "Hyundai    1\n",
       "Name: company, dtype: int64"
      ]
     },
     "execution_count": 20,
     "metadata": {},
     "output_type": "execute_result"
    }
   ],
   "source": [
    "df['company'].value_counts()"
   ]
  },
  {
   "cell_type": "code",
   "execution_count": 22,
   "id": "a6200944",
   "metadata": {},
   "outputs": [
    {
     "name": "stdout",
     "output_type": "stream",
     "text": [
      "   company   model  year newcolumn\n",
      "0     Tata   Nexon  2017      None\n",
      "1       MG   Astor  2021      None\n",
      "2      KIA  Seltos  2019      None\n",
      "3  Hyundai   Creta  2015      None\n",
      "4    Honda    Jazz  None      None\n",
      "5     None    None  None      None\n",
      "6   Toyota    None  2018      None\n",
      "7     Tata   Nexon  2017      None\n"
     ]
    }
   ],
   "source": [
    "#Adding rows with missing/invalid values\n",
    "#heart of data cleaning or preprocessing\n",
    "import pandas as pd\n",
    "\n",
    "df = pd.DataFrame({\n",
    "    'company': ['Tata','MG','KIA','Hyundai'],\n",
    "    'model':   ['Nexon','Astor','Seltos','Creta'],\n",
    "    'year':    [2017,2021,2019,2015]\n",
    "})\n",
    "\n",
    "# Add rows with missing/invalid data\n",
    "df.loc[4] = ['Honda', 'Jazz', None]      # Missing year\n",
    "df.loc[5] = [None, None, None]           # Entire row missing\n",
    "df.loc[6] = ['Toyota', None , 2018]      # Missing model\n",
    "df.loc[7] = ['Tata','Nexon',2017]        # Duplicate row\n",
    "\n",
    "# Add empty column\n",
    "df[\"newcolumn\"] = None\n",
    "\n",
    "print(df)"
   ]
  },
  {
   "cell_type": "code",
   "execution_count": 23,
   "id": "19aacc74",
   "metadata": {},
   "outputs": [
    {
     "data": {
      "text/html": [
       "<div>\n",
       "<style scoped>\n",
       "    .dataframe tbody tr th:only-of-type {\n",
       "        vertical-align: middle;\n",
       "    }\n",
       "\n",
       "    .dataframe tbody tr th {\n",
       "        vertical-align: top;\n",
       "    }\n",
       "\n",
       "    .dataframe thead th {\n",
       "        text-align: right;\n",
       "    }\n",
       "</style>\n",
       "<table border=\"1\" class=\"dataframe\">\n",
       "  <thead>\n",
       "    <tr style=\"text-align: right;\">\n",
       "      <th></th>\n",
       "      <th>company</th>\n",
       "      <th>model</th>\n",
       "      <th>year</th>\n",
       "      <th>newcolumn</th>\n",
       "    </tr>\n",
       "  </thead>\n",
       "  <tbody>\n",
       "    <tr>\n",
       "      <th>0</th>\n",
       "      <td>False</td>\n",
       "      <td>False</td>\n",
       "      <td>False</td>\n",
       "      <td>True</td>\n",
       "    </tr>\n",
       "    <tr>\n",
       "      <th>1</th>\n",
       "      <td>False</td>\n",
       "      <td>False</td>\n",
       "      <td>False</td>\n",
       "      <td>True</td>\n",
       "    </tr>\n",
       "    <tr>\n",
       "      <th>2</th>\n",
       "      <td>False</td>\n",
       "      <td>False</td>\n",
       "      <td>False</td>\n",
       "      <td>True</td>\n",
       "    </tr>\n",
       "    <tr>\n",
       "      <th>3</th>\n",
       "      <td>False</td>\n",
       "      <td>False</td>\n",
       "      <td>False</td>\n",
       "      <td>True</td>\n",
       "    </tr>\n",
       "    <tr>\n",
       "      <th>4</th>\n",
       "      <td>False</td>\n",
       "      <td>False</td>\n",
       "      <td>True</td>\n",
       "      <td>True</td>\n",
       "    </tr>\n",
       "    <tr>\n",
       "      <th>5</th>\n",
       "      <td>True</td>\n",
       "      <td>True</td>\n",
       "      <td>True</td>\n",
       "      <td>True</td>\n",
       "    </tr>\n",
       "    <tr>\n",
       "      <th>6</th>\n",
       "      <td>False</td>\n",
       "      <td>True</td>\n",
       "      <td>False</td>\n",
       "      <td>True</td>\n",
       "    </tr>\n",
       "    <tr>\n",
       "      <th>7</th>\n",
       "      <td>False</td>\n",
       "      <td>False</td>\n",
       "      <td>False</td>\n",
       "      <td>True</td>\n",
       "    </tr>\n",
       "  </tbody>\n",
       "</table>\n",
       "</div>"
      ],
      "text/plain": [
       "   company  model   year  newcolumn\n",
       "0    False  False  False       True\n",
       "1    False  False  False       True\n",
       "2    False  False  False       True\n",
       "3    False  False  False       True\n",
       "4    False  False   True       True\n",
       "5     True   True   True       True\n",
       "6    False   True  False       True\n",
       "7    False  False  False       True"
      ]
     },
     "execution_count": 23,
     "metadata": {},
     "output_type": "execute_result"
    }
   ],
   "source": [
    "df.isnull()"
   ]
  },
  {
   "cell_type": "code",
   "execution_count": 24,
   "id": "3884532c",
   "metadata": {},
   "outputs": [
    {
     "data": {
      "text/plain": [
       "0    False\n",
       "1    False\n",
       "2    False\n",
       "3    False\n",
       "4    False\n",
       "5    False\n",
       "6    False\n",
       "7     True\n",
       "dtype: bool"
      ]
     },
     "execution_count": 24,
     "metadata": {},
     "output_type": "execute_result"
    }
   ],
   "source": [
    "df.duplicated()"
   ]
  },
  {
   "cell_type": "code",
   "execution_count": 25,
   "id": "f8202d99",
   "metadata": {},
   "outputs": [],
   "source": [
    "df.fillna(\"No Value Available\", inplace=True)"
   ]
  },
  {
   "cell_type": "code",
   "execution_count": 26,
   "id": "0d328d01",
   "metadata": {},
   "outputs": [],
   "source": [
    "df.drop(columns='newcolumn', axis=1, inplace=True)"
   ]
  },
  {
   "cell_type": "code",
   "execution_count": 27,
   "id": "c6803fae",
   "metadata": {},
   "outputs": [
    {
     "name": "stdout",
     "output_type": "stream",
     "text": [
      "              company               model                year\n",
      "0                Tata               Nexon                2017\n",
      "1                  MG               Astor                2021\n",
      "2                 KIA              Seltos                2019\n",
      "3             Hyundai               Creta                2015\n",
      "4               Honda                Jazz  No Value Available\n",
      "5  No Value Available  No Value Available  No Value Available\n",
      "6              Toyota  No Value Available                2018\n",
      "7                Tata               Nexon                2017\n"
     ]
    }
   ],
   "source": [
    "print(df)"
   ]
  },
  {
   "cell_type": "code",
   "execution_count": null,
   "id": "09132c10",
   "metadata": {},
   "outputs": [],
   "source": []
  }
 ],
 "metadata": {
  "kernelspec": {
   "display_name": "Python 3 (ipykernel)",
   "language": "python",
   "name": "python3"
  },
  "language_info": {
   "codemirror_mode": {
    "name": "ipython",
    "version": 3
   },
   "file_extension": ".py",
   "mimetype": "text/x-python",
   "name": "python",
   "nbconvert_exporter": "python",
   "pygments_lexer": "ipython3",
   "version": "3.9.7"
  }
 },
 "nbformat": 4,
 "nbformat_minor": 5
}
